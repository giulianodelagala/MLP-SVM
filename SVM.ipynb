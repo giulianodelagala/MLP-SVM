{
 "cells": [
  {
   "cell_type": "code",
   "execution_count": 7,
   "metadata": {},
   "outputs": [],
   "source": [
    "#SVM\n",
    "import pandas as pd\n",
    "import numpy as np\n",
    "import random \n",
    "import matplotlib.pyplot as plt\n",
    "\n",
    "from sklearn import svm\n",
    "\n",
    "dataset = [\"iris\",\n",
    "              \"Enfermedad_Cardiaca\"]"
   ]
  },
  {
   "cell_type": "code",
   "execution_count": 8,
   "metadata": {},
   "outputs": [],
   "source": [
    "def LeerDatos(filename : str, separa : str, header = True):\n",
    "    if (header):\n",
    "        data = pd.read_csv(filename + \".csv\", sep =separa, header = 0)\n",
    "    else:\n",
    "        data = pd.read_csv(filename+ \".csv\", sep = separa, header = None)\n",
    "    #data = data.sample(frac = 1) #shuffle data\n",
    "    data = data.sort_values(data.columns[-1])\n",
    "    return data.to_numpy()"
   ]
  },
  {
   "cell_type": "code",
   "execution_count": 9,
   "metadata": {},
   "outputs": [],
   "source": [
    "def Normalizar_Datos(data : np.array):\n",
    "    #normal = np.empty_like(data)\n",
    "    for i in range (0,np.size(data[0])):\n",
    "        media = np.mean(data[:,i])\n",
    "        desvi =np.std(data[:,i])\n",
    "        data[:,i] = (data[:,i] - media)/desvi\n",
    "    return data"
   ]
  },
  {
   "cell_type": "code",
   "execution_count": 10,
   "metadata": {},
   "outputs": [],
   "source": [
    "def Crear_k_folds(data : np.array , k:int, clases: []):\n",
    "    folds = []\n",
    "    tot_clase = []\n",
    "    prop_clase = [] #Acumulado de indices\n",
    "    pre_fold = []\n",
    "\n",
    "    m = np.size(data[:,-1]) #numero de datos\n",
    "    #n = np.size(data[0])\n",
    "    for i in clases:\n",
    "        tot_clase.append(np.count_nonzero( data[:,-1] == i))\n",
    "\n",
    "    prop_clase.append(tot_clase[0])\n",
    "    for i in range (1, len(tot_clase)):\n",
    "        prop_clase.append( prop_clase[i-1] + tot_clase[i])\n",
    "\n",
    "    pos_ini = 0\n",
    "    for i in range(0, len(clases)):\n",
    "        pre_fold.append(np.array_split(data[pos_ini:prop_clase[i]], k))\n",
    "        pos_ini = prop_clase[i]\n",
    "    \n",
    "    for i in range (0,k):\n",
    "        temp = np.empty( (0,np.size(data[0])) )\n",
    "        for j in range(0,len(clases)):\n",
    "            temp = np.vstack( (temp,pre_fold[j][i]))\n",
    "        folds.append(temp)\n",
    "            \n",
    "    return folds"
   ]
  },
  {
   "cell_type": "code",
   "execution_count": 56,
   "metadata": {},
   "outputs": [],
   "source": [
    "def Calcular_Accuracy(X:np.array, y:np.array, model):\n",
    "    y_calc = model.predict(X)\n",
    "    #y_calc = OneShot_Salida(y_calc[len(y_calc)-1])\n",
    "    #print(y)\n",
    "    #print(y_calc)\n",
    "    aciertos = 0\n",
    "    \n",
    "    for i in range(0, len(y)):\n",
    "        if (y[i] == y_calc[i]):\n",
    "            aciertos += 1\n",
    "    #print(aciertos)\n",
    "    return aciertos/len(y)\n",
    "    \n",
    "def PromedioAccuracy(test:np.array, model, k, clases):\n",
    "    accu = np.zeros(k)\n",
    "    for i in range(0,k):\n",
    "        X_test = test[i][:,:-1]\n",
    "        #X_test = X_test.astype('float64')\n",
    "        #X_test = Normalizar_Datos(X_test)\n",
    "\n",
    "        y_test = TransformacionClases(test[i][:,-1], clases)\n",
    "\n",
    "        accu[i] = Calcular_Accuracy(X_test, y_test, model)\n",
    "    return accu.mean()"
   ]
  },
  {
   "cell_type": "code",
   "execution_count": 57,
   "metadata": {},
   "outputs": [],
   "source": [
    "def TransformacionClases(y:np.array, clases:[]):\n",
    "    num_clases = len(clases)\n",
    "    #vec_clases = np.empty((0), dtype = int)\n",
    "    vec_clases = []\n",
    "    for i in y:\n",
    "        idx = clases.index(i)\n",
    "        vec_clases.append(idx)\n",
    "    return vec_clases"
   ]
  },
  {
   "cell_type": "code",
   "execution_count": 81,
   "metadata": {},
   "outputs": [],
   "source": [
    "def CalculoParametrosSVM(folds:[], k:int, C:float, kernel:str , clases:[]):\n",
    "    arr_costo = []\n",
    "    arr_theta = []\n",
    "    arr_test = []\n",
    "    for test_i in range(0, k):\n",
    "        test = folds[test_i] \n",
    "        train = np.zeros( (0,np.size(folds[0][0])) )\n",
    "        for train_i in range (0, k):         \n",
    "            if (train_i == test_i):\n",
    "                continue\n",
    "            else:\n",
    "                train = np.vstack( (train,folds[train_i]) )\n",
    "            \n",
    "        #costo = []\n",
    "        X_train = train[:,:-1]\n",
    "        #X_train = X_train.astype('float64')\n",
    "        #X_train = Normalizar_Datos(X_train)\n",
    "\n",
    "        y_train = TransformacionClases( train[:,-1], clases)\n",
    "        \n",
    "        model = svm.SVC(kernel = kernel, C=C, degree=2)\n",
    "        model.fit(X_train, y_train)\n",
    "        arr_test.append(test)\n",
    "      \n",
    "    return model, arr_test"
   ]
  },
  {
   "cell_type": "code",
   "execution_count": 82,
   "metadata": {},
   "outputs": [],
   "source": [
    "def BusquedaParametros(folds:[], k, num_clases, clases:[]):\n",
    "    kernels = ['linear', 'poly', 'rbf']\n",
    "    coef = np.arange(0.5,5.1,0.5)\n",
    "    arr_accu = np.empty( (len(kernels),len(coef) ))\n",
    "\n",
    "    for ker in range(0,len(kernels)):\n",
    "        for C in range(0, len(coef)):\n",
    "            model, test = CalculoParametrosSVM(folds, k, coef[C], kernels[ker], clases)\n",
    "\n",
    "            arr_accu[ker,C] = PromedioAccuracy(test, model, k, clases)\n",
    "\n",
    "    return pd.DataFrame(arr_accu, index = kernels, columns = coef)"
   ]
  },
  {
   "cell_type": "code",
   "execution_count": 83,
   "metadata": {},
   "outputs": [],
   "source": [
    "iris = LeerDatos(dataset[0], separa = ',')\n",
    "clases = [\"Setosa\", \"Versicolor\", \"Virginica\"]\n",
    "iris_folds = Crear_k_folds(iris, 3, clases)\n",
    "#theta, arr_costo, arr_test = CalculoParametros(iris_folds, 3, 500, 0.1, 3, 3, 20, clases)\n"
   ]
  },
  {
   "cell_type": "code",
   "execution_count": 84,
   "metadata": {
    "tags": []
   },
   "outputs": [
    {
     "output_type": "execute_result",
     "data": {
      "text/plain": "             0.5       1.0       1.5       2.0       2.5       3.0       3.5  \\\nlinear  0.993464  0.979575  0.979575  0.979575  0.979575  0.979575  0.979575   \npoly    0.973856  0.993464  0.993464  0.986520  0.986520  0.986520  0.986520   \nrbf     0.953840  0.960376  0.967320  0.967320  0.973856  0.993464  0.993464   \n\n             4.0       4.5       5.0  \nlinear  0.979575  0.973039  0.973039  \npoly    0.986520  0.979575  0.979575  \nrbf     0.993464  0.993464  0.993464  ",
      "text/html": "<div>\n<style scoped>\n    .dataframe tbody tr th:only-of-type {\n        vertical-align: middle;\n    }\n\n    .dataframe tbody tr th {\n        vertical-align: top;\n    }\n\n    .dataframe thead th {\n        text-align: right;\n    }\n</style>\n<table border=\"1\" class=\"dataframe\">\n  <thead>\n    <tr style=\"text-align: right;\">\n      <th></th>\n      <th>0.5</th>\n      <th>1.0</th>\n      <th>1.5</th>\n      <th>2.0</th>\n      <th>2.5</th>\n      <th>3.0</th>\n      <th>3.5</th>\n      <th>4.0</th>\n      <th>4.5</th>\n      <th>5.0</th>\n    </tr>\n  </thead>\n  <tbody>\n    <tr>\n      <th>linear</th>\n      <td>0.993464</td>\n      <td>0.979575</td>\n      <td>0.979575</td>\n      <td>0.979575</td>\n      <td>0.979575</td>\n      <td>0.979575</td>\n      <td>0.979575</td>\n      <td>0.979575</td>\n      <td>0.973039</td>\n      <td>0.973039</td>\n    </tr>\n    <tr>\n      <th>poly</th>\n      <td>0.973856</td>\n      <td>0.993464</td>\n      <td>0.993464</td>\n      <td>0.986520</td>\n      <td>0.986520</td>\n      <td>0.986520</td>\n      <td>0.986520</td>\n      <td>0.986520</td>\n      <td>0.979575</td>\n      <td>0.979575</td>\n    </tr>\n    <tr>\n      <th>rbf</th>\n      <td>0.953840</td>\n      <td>0.960376</td>\n      <td>0.967320</td>\n      <td>0.967320</td>\n      <td>0.973856</td>\n      <td>0.993464</td>\n      <td>0.993464</td>\n      <td>0.993464</td>\n      <td>0.993464</td>\n      <td>0.993464</td>\n    </tr>\n  </tbody>\n</table>\n</div>"
     },
     "metadata": {},
     "execution_count": 84
    }
   ],
   "source": [
    "BusquedaParametros(iris_folds, k=3, num_clases=3, clases=clases)"
   ]
  },
  {
   "cell_type": "code",
   "execution_count": 85,
   "metadata": {},
   "outputs": [],
   "source": [
    "cardiaca = LeerDatos(dataset[1], separa = '\\t')\n",
    "clases_cardiaca = [0,1]\n",
    "cardiaca_folds = Crear_k_folds(cardiaca, k=3, clases=clases_cardiaca)"
   ]
  },
  {
   "cell_type": "code",
   "execution_count": 86,
   "metadata": {},
   "outputs": [
    {
     "output_type": "execute_result",
     "data": {
      "text/plain": "             0.5       1.0       1.5       2.0       2.5       3.0       3.5  \\\nlinear  0.848185  0.841584  0.844884  0.844884  0.841584  0.841584  0.838284   \npoly    0.673267  0.693069  0.696370  0.696370  0.706271  0.709571  0.709571   \nrbf     0.633663  0.673267  0.689769  0.693069  0.699670  0.706271  0.706271   \n\n             4.0       4.5       5.0  \nlinear  0.838284  0.844884  0.844884  \npoly    0.712871  0.706271  0.706271  \nrbf     0.702970  0.712871  0.709571  ",
      "text/html": "<div>\n<style scoped>\n    .dataframe tbody tr th:only-of-type {\n        vertical-align: middle;\n    }\n\n    .dataframe tbody tr th {\n        vertical-align: top;\n    }\n\n    .dataframe thead th {\n        text-align: right;\n    }\n</style>\n<table border=\"1\" class=\"dataframe\">\n  <thead>\n    <tr style=\"text-align: right;\">\n      <th></th>\n      <th>0.5</th>\n      <th>1.0</th>\n      <th>1.5</th>\n      <th>2.0</th>\n      <th>2.5</th>\n      <th>3.0</th>\n      <th>3.5</th>\n      <th>4.0</th>\n      <th>4.5</th>\n      <th>5.0</th>\n    </tr>\n  </thead>\n  <tbody>\n    <tr>\n      <th>linear</th>\n      <td>0.848185</td>\n      <td>0.841584</td>\n      <td>0.844884</td>\n      <td>0.844884</td>\n      <td>0.841584</td>\n      <td>0.841584</td>\n      <td>0.838284</td>\n      <td>0.838284</td>\n      <td>0.844884</td>\n      <td>0.844884</td>\n    </tr>\n    <tr>\n      <th>poly</th>\n      <td>0.673267</td>\n      <td>0.693069</td>\n      <td>0.696370</td>\n      <td>0.696370</td>\n      <td>0.706271</td>\n      <td>0.709571</td>\n      <td>0.709571</td>\n      <td>0.712871</td>\n      <td>0.706271</td>\n      <td>0.706271</td>\n    </tr>\n    <tr>\n      <th>rbf</th>\n      <td>0.633663</td>\n      <td>0.673267</td>\n      <td>0.689769</td>\n      <td>0.693069</td>\n      <td>0.699670</td>\n      <td>0.706271</td>\n      <td>0.706271</td>\n      <td>0.702970</td>\n      <td>0.712871</td>\n      <td>0.709571</td>\n    </tr>\n  </tbody>\n</table>\n</div>"
     },
     "metadata": {},
     "execution_count": 86
    }
   ],
   "source": [
    "BusquedaParametros(cardiaca_folds, k=3, num_clases=2, clases=clases_cardiaca)"
   ]
  },
  {
   "cell_type": "code",
   "execution_count": null,
   "metadata": {},
   "outputs": [],
   "source": []
  }
 ],
 "metadata": {
  "kernelspec": {
   "display_name": "Python 3",
   "language": "python",
   "name": "python3"
  },
  "language_info": {
   "codemirror_mode": {
    "name": "ipython",
    "version": 3
   },
   "file_extension": ".py",
   "mimetype": "text/x-python",
   "name": "python",
   "nbconvert_exporter": "python",
   "pygments_lexer": "ipython3",
   "version": "3.7.7-final"
  }
 },
 "nbformat": 4,
 "nbformat_minor": 4
}